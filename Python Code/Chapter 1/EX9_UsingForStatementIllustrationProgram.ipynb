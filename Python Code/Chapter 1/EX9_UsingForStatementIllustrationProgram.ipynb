{
 "cells": [
  {
   "cell_type": "markdown",
   "id": "01160e4c-589d-459d-a627-438c528d9bba",
   "metadata": {},
   "source": [
    "**Topic:** For Statement Illustration Program\n",
    "\n",
    "Finding all solutions to reach a total of 1000 quid using banknotes of 500 quid, 200 quid and 100 quid.\n",
    "\n",
    "Solution: we use 3 nested for loops to vary the number of 500, 200 and 100 quid banknotes under the condition that their total equals  1000 quid.\n",
    "\n",
    "***Đề bài:*** Viết chương trình đưa ra toàn bộ các phương án có được 1000 Pound từ các tờ giấy 100, 200, 500 pound (Lưu ý: ở đây chỉ đưa ra để làm ví dụ, thực tế thì không có đồng Bảng Anh nào giá trị trên 50 Pound :)) *"
   ]
  },
  {
   "cell_type": "code",
   "execution_count": 3,
   "id": "cc9e8495-cd6e-4b3c-af93-80b56d5e5b56",
   "metadata": {},
   "outputs": [
    {
     "name": "stdout",
     "output_type": "stream",
     "text": [
      "\n",
      " 1000 quid = \n",
      " 10 X 100quid\n",
      "\n",
      " 1000 quid = \n",
      " 8 X 100quid\n",
      " 1 X 200quid\n",
      "\n",
      " 1000 quid = \n",
      " 6 X 100quid\n",
      " 2 X 200quid\n",
      "\n",
      " 1000 quid = \n",
      " 4 X 100quid\n",
      " 3 X 200quid\n",
      "\n",
      " 1000 quid = \n",
      " 2 X 100quid\n",
      " 4 X 200quid\n",
      "\n",
      " 1000 quid = \n",
      " 5 X 200quid\n",
      "\n",
      " 1000 quid = \n",
      " 5 X 100quid\n",
      " 1 X 500quid\n",
      "\n",
      " 1000 quid = \n",
      " 3 X 100quid\n",
      " 1 X 200quid\n",
      " 1 X 500quid\n",
      "\n",
      " 1000 quid = \n",
      " 1 X 100quid\n",
      " 2 X 200quid\n",
      " 1 X 500quid\n",
      "\n",
      " 1000 quid = \n",
      " 2 X 500quid\n",
      "\n",
      " Number of solutions to make up a total of 1000 quid is 10\n"
     ]
    }
   ],
   "source": [
    "number_of_solutions = 0\n",
    "number_of_500q = 0\n",
    "number_of_200q = 0\n",
    "number_of_100q = 0\n",
    "\n",
    "for number_of_500q in range(3):\n",
    "    for number_of_200q in range(6):\n",
    "        for number_of_100q in range(11):\n",
    "            if (100*number_of_100q + 200*number_of_200q + 500*number_of_500q == 1000):\n",
    "                number_of_solutions += 1\n",
    "                print(\"\\n 1000 quid = \")\n",
    "                if(number_of_100q):\n",
    "                    print(f\" {number_of_100q} X 100quid\")\n",
    "                if(number_of_200q):\n",
    "                    print(f\" {number_of_200q} X 200quid\")\n",
    "                if(number_of_500q):\n",
    "                    print(f\" {number_of_500q} X 500quid\")\n",
    "print(f\"\\n Number of solutions to make up a total of 1000 quid is {number_of_solutions}\")\n"
   ]
  }
 ],
 "metadata": {
  "kernelspec": {
   "display_name": "Python 3 (ipykernel)",
   "language": "python",
   "name": "python3"
  },
  "language_info": {
   "codemirror_mode": {
    "name": "ipython",
    "version": 3
   },
   "file_extension": ".py",
   "mimetype": "text/x-python",
   "name": "python",
   "nbconvert_exporter": "python",
   "pygments_lexer": "ipython3",
   "version": "3.9.6"
  }
 },
 "nbformat": 4,
 "nbformat_minor": 5
}
