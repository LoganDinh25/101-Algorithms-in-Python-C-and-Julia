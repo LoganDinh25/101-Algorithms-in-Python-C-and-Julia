{
 "cells": [
  {
   "cell_type": "markdown",
   "id": "c63cab25-afd2-4554-937c-31b26c02d422",
   "metadata": {},
   "source": [
    "**Counting the number of apperience of a character in a string**"
   ]
  },
  {
   "cell_type": "code",
   "execution_count": 3,
   "id": "11f455ea-bb36-4cba-98fc-748eebecb9d2",
   "metadata": {},
   "outputs": [
    {
     "name": "stdin",
     "output_type": "stream",
     "text": [
      "Input an string: \n",
      " Cong hoa xa hoi chu nghix viet nam\n"
     ]
    },
    {
     "name": "stdout",
     "output_type": "stream",
     "text": [
      "This string has 3 character a\n"
     ]
    }
   ],
   "source": [
    "string = input(\"Input an string: \\n\")\n",
    "\n",
    "number_of_a = 0 \n",
    "index = 0\n",
    "while(index < len(string)):\n",
    "    if string[index] == 'a':\n",
    "       number_of_a += 1\n",
    "    index += 1\n",
    "\n",
    "print(f\"This string has {number_of_a} character a\")"
   ]
  },
  {
   "cell_type": "code",
   "execution_count": null,
   "id": "6dadbcd1-de85-41d1-b082-8f7b55ffd183",
   "metadata": {},
   "outputs": [],
   "source": []
  }
 ],
 "metadata": {
  "kernelspec": {
   "display_name": "Python 3 (ipykernel)",
   "language": "python",
   "name": "python3"
  },
  "language_info": {
   "codemirror_mode": {
    "name": "ipython",
    "version": 3
   },
   "file_extension": ".py",
   "mimetype": "text/x-python",
   "name": "python",
   "nbconvert_exporter": "python",
   "pygments_lexer": "ipython3",
   "version": "3.9.6"
  }
 },
 "nbformat": 4,
 "nbformat_minor": 5
}
