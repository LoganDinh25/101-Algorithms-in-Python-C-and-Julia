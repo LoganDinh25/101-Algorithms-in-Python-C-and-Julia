{
 "cells": [
  {
   "cell_type": "markdown",
   "id": "6aafdf7d-ff1d-4084-aceb-165c54f3de75",
   "metadata": {},
   "source": [
    "**Defind a Structure - Class**\n",
    "\n",
    "Defind a structure Employee with fields: date of birth, day of recruitment, and salary level. Also, defind a structure Date that contains day, month, and year, which will be uses for date of birth and date of recruitment fields.\n"
   ]
  },
  {
   "cell_type": "code",
   "execution_count": 15,
   "id": "84ce6db4-943b-4b03-8a58-630e0bc63f73",
   "metadata": {},
   "outputs": [
    {
     "name": "stdout",
     "output_type": "stream",
     "text": [
      "Enter Date of birth \n",
      "\n"
     ]
    },
    {
     "name": "stdin",
     "output_type": "stream",
     "text": [
      "Day:  29\n",
      "Month:  April\n",
      "Year:  1995\n"
     ]
    },
    {
     "name": "stdout",
     "output_type": "stream",
     "text": [
      "\n",
      "Enter Date of Recruitment \n",
      "\n"
     ]
    },
    {
     "name": "stdin",
     "output_type": "stream",
     "text": [
      "Day:  24\n",
      "Month:  December\n",
      "Year:  2025\n",
      "Enter salary level:  81\n"
     ]
    },
    {
     "name": "stdout",
     "output_type": "stream",
     "text": [
      "\n",
      " Employee Info:\n",
      "Date of Birth: 29/April/1995 \n",
      "Date of Recruitment: 24/December/2025\n",
      "Salary Level is: 81.0\n"
     ]
    }
   ],
   "source": [
    "class Date():\n",
    "    def __init__(self, day: int, month: str, year: int):\n",
    "        self.day = day\n",
    "        self.month = month\n",
    "        self.year = year\n",
    "class Employee():\n",
    "    def __init__(self, date_of_birth: Date, date_of_recruitment: Date, salary_level: float):\n",
    "        self.date_of_birth = date_of_birth\n",
    "        self.date_of_recruitment = date_of_recruitment\n",
    "        self.salary_level = salary_level\n",
    "\n",
    "# Input Date of Birth\n",
    "print(\"Enter Date of birth \\n\")\n",
    "dob_day = int(input(\"Day: \"))\n",
    "dob_month = input(\"Month: \")\n",
    "dob_year = int(input(\"Year: \"))\n",
    "\n",
    "dob = Date(dob_day, dob_month, dob_year)\n",
    "\n",
    "# Input Date of Recruitment\n",
    "print(\"\\nEnter Date of Recruitment \\n\")\n",
    "dor_day = int(input(\"Day: \"))\n",
    "dor_month = input(\"Month: \")\n",
    "dor_year = int(input(\"Year: \"))\n",
    "\n",
    "dor = Date(dor_day, dor_month, dor_year)\n",
    "\n",
    "# Input Salary Level\n",
    "salary_level = float(input(\"Enter salary level: \"))\n",
    "\n",
    "# Create a Employee\n",
    "employee = Employee(dob, dor, salary_level)\n",
    "\n",
    "print(\"\\n Employee Info:\")\n",
    "print(f\"Date of Birth: {employee.date_of_birth.day}/{employee.date_of_birth.month}/{employee.date_of_birth.year} \")\n",
    "print(f\"Date of Recruitment: {employee.date_of_recruitment.day}/{employee.date_of_recruitment.month}/{employee.date_of_recruitment.year}\")\n",
    "print(f\"Salary Level is: {employee.salary_level}\")\n"
   ]
  },
  {
   "cell_type": "code",
   "execution_count": null,
   "id": "7d18bd39-81d6-460f-bd1f-a01010fa84c9",
   "metadata": {},
   "outputs": [],
   "source": []
  }
 ],
 "metadata": {
  "kernelspec": {
   "display_name": "Python 3 (ipykernel)",
   "language": "python",
   "name": "python3"
  },
  "language_info": {
   "codemirror_mode": {
    "name": "ipython",
    "version": 3
   },
   "file_extension": ".py",
   "mimetype": "text/x-python",
   "name": "python",
   "nbconvert_exporter": "python",
   "pygments_lexer": "ipython3",
   "version": "3.9.6"
  }
 },
 "nbformat": 4,
 "nbformat_minor": 5
}
