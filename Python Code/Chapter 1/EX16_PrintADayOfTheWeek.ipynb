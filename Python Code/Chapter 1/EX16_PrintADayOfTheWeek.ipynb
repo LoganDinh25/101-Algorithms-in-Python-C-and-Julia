{
 "cells": [
  {
   "cell_type": "markdown",
   "id": "3559928b-62a7-485a-9d39-36dea33f07d2",
   "metadata": {},
   "source": [
    "**Topic:** String Array Program\n",
    "\n",
    "Input an 1D array and print out summary of this array\n",
    "\n",
    "***Đề bài:*** Viet ham nhap moi mang mot chieu va in ra tong cua cac phan tu trong mang"
   ]
  },
  {
   "cell_type": "code",
   "execution_count": 3,
   "id": "a4bf0c3c-07b8-4025-bd46-380416298bfe",
   "metadata": {},
   "outputs": [
    {
     "name": "stdout",
     "output_type": "stream",
     "text": [
      "String array illustration programming \n",
      "\n"
     ]
    },
    {
     "name": "stdin",
     "output_type": "stream",
     "text": [
      "Input an integer number from 1 to 7:  8\n",
      "Input an integer number from 1 to 7:  6\n"
     ]
    },
    {
     "name": "stdout",
     "output_type": "stream",
     "text": [
      "Day 6 of week is: Friday\n"
     ]
    }
   ],
   "source": [
    "day = [\"Sunday\", \"Mondy\", \"Tuesday\", \"Wednesday\", \"Thursday\", \"Friday\", \"Satuday\", \"Sunday\"]\n",
    "\n",
    "print(\"String array illustration programming \\n\")\n",
    "while True:\n",
    "    number = int(input(\"Input an integer number from 1 to 7: \"))\n",
    "    if number <= 0 or number > 7:\n",
    "        continue\n",
    "    else: \n",
    "        break\n",
    "print(f\"Day {number} of week is: {day[number -1]}\") "
   ]
  },
  {
   "cell_type": "code",
   "execution_count": null,
   "id": "b5d814f3-9a80-4932-8729-79ec5b6f370e",
   "metadata": {},
   "outputs": [],
   "source": []
  }
 ],
 "metadata": {
  "kernelspec": {
   "display_name": "Python 3 (ipykernel)",
   "language": "python",
   "name": "python3"
  },
  "language_info": {
   "codemirror_mode": {
    "name": "ipython",
    "version": 3
   },
   "file_extension": ".py",
   "mimetype": "text/x-python",
   "name": "python",
   "nbconvert_exporter": "python",
   "pygments_lexer": "ipython3",
   "version": "3.9.6"
  }
 },
 "nbformat": 4,
 "nbformat_minor": 5
}
