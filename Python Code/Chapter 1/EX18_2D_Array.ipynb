{
 "cells": [
  {
   "cell_type": "markdown",
   "id": "7fc204a2-b7fe-449f-981e-694582fc101b",
   "metadata": {},
   "source": [
    "**2D Array Program**\n",
    "\n",
    "Finding the first negative element of array"
   ]
  },
  {
   "cell_type": "code",
   "execution_count": 6,
   "id": "d19eebdd-ce4d-45c5-9487-93d01d7b1c1f",
   "metadata": {},
   "outputs": [
    {
     "name": "stdout",
     "output_type": "stream",
     "text": [
      "The first negative element of this array is a[0][3] = -8\n"
     ]
    }
   ],
   "source": [
    "a = [[4, 2.5, 6.2, -8],\n",
    "    [3.2, 25, 7, 0.5],\n",
    "    [1.5, -3, 0, 5]]\n",
    "found = False\n",
    "\n",
    "for i in range(len(a)):\n",
    "    for j in range(len(a[0])):\n",
    "        if(a[i][j] < 0):\n",
    "            print(f\"The first negative element of this array is a[{i}][{j}] = {a[i][j]}\")\n",
    "            found = True\n",
    "            break\n",
    "    if found == True:\n",
    "        break\n",
    "\n",
    "if not found: \n",
    "    print(\"This array has no negative element\")\n",
    "        "
   ]
  },
  {
   "cell_type": "code",
   "execution_count": null,
   "id": "0a374633-3e44-472d-9dc9-2cc11ccbe85c",
   "metadata": {},
   "outputs": [],
   "source": []
  }
 ],
 "metadata": {
  "kernelspec": {
   "display_name": "Python 3 (ipykernel)",
   "language": "python",
   "name": "python3"
  },
  "language_info": {
   "codemirror_mode": {
    "name": "ipython",
    "version": 3
   },
   "file_extension": ".py",
   "mimetype": "text/x-python",
   "name": "python",
   "nbconvert_exporter": "python",
   "pygments_lexer": "ipython3",
   "version": "3.9.6"
  }
 },
 "nbformat": 4,
 "nbformat_minor": 5
}
