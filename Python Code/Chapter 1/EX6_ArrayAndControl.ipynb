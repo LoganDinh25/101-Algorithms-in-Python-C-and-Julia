{
 "cells": [
  {
   "cell_type": "markdown",
   "id": "ea5d681e-bd56-4ba3-bb96-8e83e5595be7",
   "metadata": {},
   "source": [
    "**Topic** Array and Control Illustration Program\n",
    "\n",
    "***Đề bài:*** *Viết chương trình minh hoạ mảng và control*"
   ]
  },
  {
   "cell_type": "code",
   "execution_count": 7,
   "id": "8e270149-aace-4c2e-83b6-4ae4a24a5256",
   "metadata": {},
   "outputs": [
    {
     "name": "stdout",
     "output_type": "stream",
     "text": [
      "Program to illustrate array and control\n",
      "\n",
      "\n",
      "\n",
      "0\n",
      "2\n",
      "4\n",
      "\n",
      "\n",
      "0\n",
      "2\n",
      "4\n",
      "\n",
      "\n"
     ]
    }
   ],
   "source": [
    "print(\"Program to illustrate array and control\\n\")\n",
    " \n",
    "i = 0\n",
    "j = 0\n",
    "t = []\n",
    "\n",
    "# t[i] = j++ +i\n",
    "for i in range(3): \n",
    "    t.insert(i, j+i)\n",
    "    j = j + 1\n",
    "print(\"\\n\")\n",
    "\n",
    "for i in range(3):\n",
    "    print(t[i])\n",
    "print(\"\\n\")\n",
    "\n",
    "#printf(\"*(t+i)\") ~ Print element i-th in array t\n",
    "for i in range(3):\n",
    "   print(t[i]) \n",
    "print(\"\\n\")"
   ]
  },
  {
   "cell_type": "code",
   "execution_count": null,
   "id": "52cc4cc8-ff04-483f-a7a8-a81bd48406e1",
   "metadata": {},
   "outputs": [],
   "source": []
  }
 ],
 "metadata": {
  "kernelspec": {
   "display_name": "Python 3 (ipykernel)",
   "language": "python",
   "name": "python3"
  },
  "language_info": {
   "codemirror_mode": {
    "name": "ipython",
    "version": 3
   },
   "file_extension": ".py",
   "mimetype": "text/x-python",
   "name": "python",
   "nbconvert_exporter": "python",
   "pygments_lexer": "ipython3",
   "version": "3.9.6"
  }
 },
 "nbformat": 4,
 "nbformat_minor": 5
}
