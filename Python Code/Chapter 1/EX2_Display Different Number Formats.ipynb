{
 "cells": [
  {
   "cell_type": "markdown",
   "id": "24648bb4-9e1d-48a2-a7be-87a35b3024c0",
   "metadata": {},
   "source": [
    "**Topic:** Write a program to enter data from the keyboard and display the results on the screen in different formats.\n",
    "\n",
    "\n",
    "***Đề bài:*** *Viết chương trình nhập số liệu từ bàn phím và hiện kết quả ra màn hình các dữ liệu hiển thị dưới các dạng khác nhau*"
   ]
  },
  {
   "cell_type": "code",
   "execution_count": 14,
   "id": "3ffdd0e4-3055-4348-b44b-6e989218dfb9",
   "metadata": {},
   "outputs": [
    {
     "name": "stdout",
     "output_type": "stream",
     "text": [
      "\n",
      " Display integers and real numbers:543 34.567800\n",
      "\n",
      " Display integer n with width 4 and real number x with width 10: 543  34.567800\n",
      "\n",
      " Display integer n with width 2 and real number x with width 3:543 34.567800\n",
      "\n",
      " Display real x with width 10 integer parts, 3 decimal places and real number n with width 10:    34.568        543\n",
      "\n",
      " Display integer n with width 5 with spaces in the right side and real number x with width 3:543   34.567800\n",
      "\n",
      " Display 2 integers n and p:5 543\n",
      "\n",
      " Display real x with width 12 integer parts and 5 demical places:    34.56780\n",
      "\n",
      " Display the integer to Hex conversion with a width of 8:21f      21f\n",
      "\n",
      " Displays the integer to Octa conversion with a width of 8:1037     1037\n"
     ]
    }
   ],
   "source": [
    "# Declare and initialize variables\n",
    "\n",
    "n = 543\n",
    "p = 5\n",
    "x = 34.5678\n",
    "\n",
    "print(f\"\\n Display integers and real numbers:{n} {x:f}\")\n",
    "print(f\"\\n Display integer n with width 4 and real number x with width 10:{n:4d} {x:10f}\")\n",
    "print(f\"\\n Display integer n with width 2 and real number x with width 3:{n:2d} {x:3f}\")\n",
    "print(f\"\\n Display real x with width 10 integer parts, 3 decimal places and real number n with width 10:{x:10.3f} {n:10d}\")\n",
    "print(f\"\\n Display integer n with width 5 with spaces in the right side and real number x with width 3:{n:<5d} {x:f}\")\n",
    "print(f\"\\n Display 2 integers n and p:{p:d} {n}\")\n",
    "print(f\"\\n Display real x with width 12 integer parts and 5 demical places:{x:12.5f}\")\n",
    "print(f\"\\n Display the integer to Hex conversion with a width of 8:{n:x} {n:8x}\")\n",
    "print(f\"\\n Displays the integer to Octa conversion with a width of 8:{n:o} {n:8o}\")"
   ]
  },
  {
   "cell_type": "raw",
   "id": "8649a271-300e-47d7-a257-a2379e1d17e1",
   "metadata": {},
   "source": []
  }
 ],
 "metadata": {
  "kernelspec": {
   "display_name": "Python 3 (ipykernel)",
   "language": "python",
   "name": "python3"
  },
  "language_info": {
   "codemirror_mode": {
    "name": "ipython",
    "version": 3
   },
   "file_extension": ".py",
   "mimetype": "text/x-python",
   "name": "python",
   "nbconvert_exporter": "python",
   "pygments_lexer": "ipython3",
   "version": "3.9.6"
  }
 },
 "nbformat": 4,
 "nbformat_minor": 5
}
