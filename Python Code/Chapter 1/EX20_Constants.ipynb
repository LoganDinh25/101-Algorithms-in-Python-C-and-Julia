{
 "cells": [
  {
   "cell_type": "markdown",
   "id": "b5be5ca2-c5c7-465f-9df8-6b9c024b91d5",
   "metadata": {},
   "source": [
    "**Defind the Constants**"
   ]
  },
  {
   "cell_type": "code",
   "execution_count": 2,
   "id": "c9e16867-c2b9-472a-8354-b8e4db8c2ffa",
   "metadata": {},
   "outputs": [
    {
     "name": "stdout",
     "output_type": "stream",
     "text": [
      "\n",
      " REALLY LARGE\n",
      "\n",
      " 275\n"
     ]
    }
   ],
   "source": [
    "NB = 5\n",
    "MSG = \"\\n REALLY LARGE\"\n",
    "\n",
    "y = 10*NB\n",
    "print(MSG)\n",
    "z = NB + y\n",
    "z = NB + y + 6\n",
    "z = 5*NB + y\n",
    "z = 5*(NB + y)\n",
    "z = 5*((NB) + (y))\n",
    "print(f\"\\n {z}\")"
   ]
  }
 ],
 "metadata": {
  "kernelspec": {
   "display_name": "Python 3 (ipykernel)",
   "language": "python",
   "name": "python3"
  },
  "language_info": {
   "codemirror_mode": {
    "name": "ipython",
    "version": 3
   },
   "file_extension": ".py",
   "mimetype": "text/x-python",
   "name": "python",
   "nbconvert_exporter": "python",
   "pygments_lexer": "ipython3",
   "version": "3.9.6"
  }
 },
 "nbformat": 4,
 "nbformat_minor": 5
}
