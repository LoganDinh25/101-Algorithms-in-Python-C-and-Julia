{
 "cells": [
  {
   "cell_type": "markdown",
   "id": "a7a4c84b",
   "metadata": {},
   "source": [
    "**Topic:** Write a program to enter data from the keyboard and display results on the screen with data types of integers, real numbers and strings\n",
    "\n",
    "\n",
    "***Đề bài:*** *Viết chương trình nhập số liệu từ bàn phím và hiện kết quả ra màn hình các dữ liệu kiểu số nguyên, số thực và chuỗi*"
   ]
  },
  {
   "cell_type": "markdown",
   "id": "e27b9cae",
   "metadata": {},
   "source": [
    "Use the **input()** function to enter data from the keyboard."
   ]
  },
  {
   "cell_type": "code",
   "execution_count": 2,
   "id": "fa582777",
   "metadata": {},
   "outputs": [
    {
     "name": "stdout",
     "output_type": "stream",
     "text": [
      "Enter data from the keyboard\n",
      "Enter an integer: 4\n",
      "Enter a real number: 5.7\n",
      "Enter a string: Test thử\n",
      "4 5.7 Test thử\n"
     ]
    }
   ],
   "source": [
    "print(\"Enter data from the keyboard\")\n",
    "\n",
    "int_number = int(input(\"Enter an integer: \"))\n",
    "float_number = float(input(\"Enter a real number: \"))\n",
    "string_input = input(\"Enter a string: \")\n",
    "\n",
    "print(int_number, float_number, string_input)"
   ]
  },
  {
   "cell_type": "code",
   "execution_count": null,
   "id": "2b72f01b",
   "metadata": {},
   "outputs": [],
   "source": []
  }
 ],
 "metadata": {
  "kernelspec": {
   "display_name": "Python 3 (ipykernel)",
   "language": "python",
   "name": "python3"
  },
  "language_info": {
   "codemirror_mode": {
    "name": "ipython",
    "version": 3
   },
   "file_extension": ".py",
   "mimetype": "text/x-python",
   "name": "python",
   "nbconvert_exporter": "python",
   "pygments_lexer": "ipython3",
   "version": "3.9.6"
  }
 },
 "nbformat": 4,
 "nbformat_minor": 5
}
