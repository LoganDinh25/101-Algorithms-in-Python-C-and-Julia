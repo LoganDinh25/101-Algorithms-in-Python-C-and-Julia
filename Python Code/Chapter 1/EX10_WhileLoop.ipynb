{
 "cells": [
  {
   "cell_type": "markdown",
   "id": "7ee1af41-6bf7-4f76-96e9-012d7fa32ed7",
   "metadata": {},
   "source": [
    "**Topic:** Using While Loop\n",
    "\n",
    "***Đề bài:*** Sử dụng câu lệnh While *"
   ]
  },
  {
   "cell_type": "code",
   "execution_count": 6,
   "id": "6c4aa491-d864-4788-b53d-25e9b3596ec2",
   "metadata": {},
   "outputs": [
    {
     "name": "stdout",
     "output_type": "stream",
     "text": [
      "Illustration Program Using a While Loop: \n",
      "\n",
      "A: n = 6 \n",
      "\n",
      "B: n = 10 \n",
      "\n",
      "C: n = 10 \n",
      "\n",
      "D: n = 15 \n",
      "\n",
      "E: n = 21 \n",
      "\n"
     ]
    }
   ],
   "source": [
    "n = 0\n",
    "print(\"Illustration Program Using a While Loop: \\n\")\n",
    "\n",
    "# n++\n",
    "while (n <= 5):\n",
    "    n += 1\n",
    "print(f\"A: n = {n:d} \\n\")\n",
    "\n",
    "# n += p++\n",
    "p = n = 0\n",
    "while (n <= 8):\n",
    "    n += p\n",
    "    p += 1\n",
    "print(f\"B: n = {n:d} \\n\")\n",
    "\n",
    "# n += ++p\n",
    "p = n = 0\n",
    "while (n <= 8):\n",
    "    p += 1\n",
    "    n += p\n",
    "print(f\"C: n = {n:d} \\n\")\n",
    "\n",
    "# n += p++\n",
    "p = n = 0\n",
    "while (p <= 5):\n",
    "    n += p\n",
    "    p += 1\n",
    "print(f\"D: n = {n:d} \\n\")\n",
    "\n",
    "# n += ++p\n",
    "p = n = 0\n",
    "while (p <= 5):\n",
    "    p += 1\n",
    "    n += p\n",
    "print(f\"E: n = {n:d} \\n\")\n"
   ]
  },
  {
   "cell_type": "code",
   "execution_count": null,
   "id": "8bbf18f0-cbc2-4f5b-b358-2937502c68f4",
   "metadata": {},
   "outputs": [],
   "source": []
  }
 ],
 "metadata": {
  "kernelspec": {
   "display_name": "Python 3 (ipykernel)",
   "language": "python",
   "name": "python3"
  },
  "language_info": {
   "codemirror_mode": {
    "name": "ipython",
    "version": 3
   },
   "file_extension": ".py",
   "mimetype": "text/x-python",
   "name": "python",
   "nbconvert_exporter": "python",
   "pygments_lexer": "ipython3",
   "version": "3.9.6"
  }
 },
 "nbformat": 4,
 "nbformat_minor": 5
}
