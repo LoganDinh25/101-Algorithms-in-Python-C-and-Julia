{
 "cells": [
  {
   "cell_type": "markdown",
   "id": "6b5a9bbf-779a-4c06-aa79-9f518880f85d",
   "metadata": {},
   "source": [
    "**Calculating the 10th Element of Fibonacci Array**\n",
    "\n",
    "Fibonacci array is prepersent with abow fomulate:\n",
    "\n",
    "U(n) = U(n-1) + U(n-2) with n > 2; U(1) = 1 and U(2) = 2"
   ]
  },
  {
   "cell_type": "code",
   "execution_count": 2,
   "id": "5fd7fcdd-a2e1-4517-b89f-bb43e94279bd",
   "metadata": {},
   "outputs": [
    {
     "name": "stdout",
     "output_type": "stream",
     "text": [
      "Program for Calculating the Element Value of Fibonacci Array/Series\n"
     ]
    },
    {
     "name": "stdin",
     "output_type": "stream",
     "text": [
      "Enter the Element Index that you want to calcute n =  10\n"
     ]
    },
    {
     "name": "stdout",
     "output_type": "stream",
     "text": [
      "3  \n",
      "5  \n",
      "8  \n",
      "13  \n",
      "21  \n",
      "34  \n",
      "55  \n",
      "89  \n"
     ]
    }
   ],
   "source": [
    "print(\"Program for Calculating the Element Value of Fibonacci Array/Series\")\n",
    "n = int(input(\"Enter the Element Index that you want to calcute n = \"))\n",
    "fibonacci = [0]*n\n",
    "fibonacci[0] = 1\n",
    "fibonacci[1] = 2\n",
    "\n",
    "for i in range(2, n, 1):\n",
    "    fibonacci[i] = fibonacci[i-1] + fibonacci[i-2]\n",
    "    print(f\"{fibonacci[i]}  \")\n"
   ]
  },
  {
   "cell_type": "code",
   "execution_count": null,
   "id": "e04be60a-0198-4ce1-b10c-792a22eef2c4",
   "metadata": {},
   "outputs": [],
   "source": []
  }
 ],
 "metadata": {
  "kernelspec": {
   "display_name": "Python 3 (ipykernel)",
   "language": "python",
   "name": "python3"
  },
  "language_info": {
   "codemirror_mode": {
    "name": "ipython",
    "version": 3
   },
   "file_extension": ".py",
   "mimetype": "text/x-python",
   "name": "python",
   "nbconvert_exporter": "python",
   "pygments_lexer": "ipython3",
   "version": "3.9.6"
  }
 },
 "nbformat": 4,
 "nbformat_minor": 5
}
