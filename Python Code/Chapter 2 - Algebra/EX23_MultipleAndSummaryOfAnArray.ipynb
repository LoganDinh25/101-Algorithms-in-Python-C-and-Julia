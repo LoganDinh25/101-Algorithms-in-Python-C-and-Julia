{
 "cells": [
  {
   "cell_type": "markdown",
   "id": "e1cc6730-e854-4ac6-a69a-1cb7023af9c7",
   "metadata": {},
   "source": [
    "**Multiply and Summary all Elements of an Array**"
   ]
  },
  {
   "cell_type": "code",
   "execution_count": 1,
   "id": "46ad94ed-aa19-4248-8ffe-5441e0df60e2",
   "metadata": {},
   "outputs": [
    {
     "name": "stdout",
     "output_type": "stream",
     "text": [
      "Program to multiply all elements of an array \n",
      "\n",
      "Enter the data\n"
     ]
    },
    {
     "name": "stdin",
     "output_type": "stream",
     "text": [
      "Enter number of elements:  4\n"
     ]
    },
    {
     "name": "stdout",
     "output_type": "stream",
     "text": [
      "\n",
      "Enter the data of all elements\n"
     ]
    },
    {
     "name": "stdin",
     "output_type": "stream",
     "text": [
      "array[0] =  12.25\n",
      "array[1] =  -45.6\n",
      "array[2] =  25\n",
      "array[3] =  50.52\n"
     ]
    },
    {
     "name": "stdout",
     "output_type": "stream",
     "text": [
      "\n",
      "Multiply and Summary all Elements of this Array is -705511.800000 and 42.170\n"
     ]
    }
   ],
   "source": [
    "print(\"Program to multiply all elements of an array \\n\")\n",
    "print(\"Enter the data\")\n",
    "n = int(input(\"Enter number of elements: \"))\n",
    "array = [0]*n\n",
    "multiply = 1.00\n",
    "summary = 0\n",
    "\n",
    "# Enter the data of all elements\n",
    "print(\"\\nEnter the data of all elements\")\n",
    "for i in range(n):\n",
    "    array[i] = float(input(f\"array[{i}] = \"))\n",
    "    multiply *= array[i]\n",
    "    summary += array[i]\n",
    "\n",
    "print(f\"\\nMultiply and Summary all Elements of this Array is {multiply:3f} and {summary:.3f}\")"
   ]
  },
  {
   "cell_type": "code",
   "execution_count": null,
   "id": "1ae59167-6966-49e2-8cf5-0dbe6dd5e0e4",
   "metadata": {},
   "outputs": [],
   "source": []
  }
 ],
 "metadata": {
  "kernelspec": {
   "display_name": "Python 3 (ipykernel)",
   "language": "python",
   "name": "python3"
  },
  "language_info": {
   "codemirror_mode": {
    "name": "ipython",
    "version": 3
   },
   "file_extension": ".py",
   "mimetype": "text/x-python",
   "name": "python",
   "nbconvert_exporter": "python",
   "pygments_lexer": "ipython3",
   "version": "3.9.6"
  }
 },
 "nbformat": 4,
 "nbformat_minor": 5
}
