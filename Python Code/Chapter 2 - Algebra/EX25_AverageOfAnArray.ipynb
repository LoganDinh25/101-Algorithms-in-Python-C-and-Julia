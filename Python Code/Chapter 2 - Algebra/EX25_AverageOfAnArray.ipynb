{
 "cells": [
  {
   "cell_type": "markdown",
   "id": "f57b6ce0-214b-4761-a431-76c49b749a1f",
   "metadata": {},
   "source": [
    "**Calculating Average of an Array with the value of Element in a range**"
   ]
  },
  {
   "cell_type": "code",
   "execution_count": 4,
   "id": "cd939f65-c7d9-4886-8979-05454c4b230c",
   "metadata": {},
   "outputs": [
    {
     "name": "stdout",
     "output_type": "stream",
     "text": [
      "Program for Calculating Average \n",
      "\n",
      "Enter the Data\n",
      "\n"
     ]
    },
    {
     "name": "stdin",
     "output_type": "stream",
     "text": [
      "Enter the Upper Limit Value:  10\n",
      "Enter the Lowwer Limit Value:  2\n",
      "Enter the number of Element of the Array:  4\n",
      "array[0] =  3.5\n",
      "array[1] =  4.75\n",
      "array[2] =  -12.45\n",
      "array[3] =  4.75\n"
     ]
    },
    {
     "name": "stdout",
     "output_type": "stream",
     "text": [
      "Average of this array for all element values between 10.0 to 2.0 is  4.333\n"
     ]
    }
   ],
   "source": [
    "print(\"Program for Calculating Average \\n\")\n",
    "print(\"Enter the Data\\n\")\n",
    "a = float(input(\"Enter the Upper Limit Value: \"))\n",
    "b = float(input(\"Enter the Lowwer Limit Value: \"))\n",
    "n = int(input(\"Enter the number of Element of the Array: \"))\n",
    "\n",
    "array = [0]*n\n",
    "\n",
    "for i in range(n):\n",
    "    array[i] = float(input(f\"array[{i}] = \"))\n",
    "\n",
    "average = 0.0\n",
    "time = 0\n",
    "\n",
    "for i in range(n):\n",
    "    if array[i] < a and array[i] > b:\n",
    "        average += array[i]\n",
    "        time += 1\n",
    "\n",
    "average = average / time\n",
    "\n",
    "print(f\"Average of this array for all element values between {a} to {b} is {average : .3f}\")"
   ]
  },
  {
   "cell_type": "code",
   "execution_count": null,
   "id": "1600b960-f47b-4814-b193-49cc0cb4616a",
   "metadata": {},
   "outputs": [],
   "source": []
  }
 ],
 "metadata": {
  "kernelspec": {
   "display_name": "Python 3 (ipykernel)",
   "language": "python",
   "name": "python3"
  },
  "language_info": {
   "codemirror_mode": {
    "name": "ipython",
    "version": 3
   },
   "file_extension": ".py",
   "mimetype": "text/x-python",
   "name": "python",
   "nbconvert_exporter": "python",
   "pygments_lexer": "ipython3",
   "version": "3.9.6"
  }
 },
 "nbformat": 4,
 "nbformat_minor": 5
}
