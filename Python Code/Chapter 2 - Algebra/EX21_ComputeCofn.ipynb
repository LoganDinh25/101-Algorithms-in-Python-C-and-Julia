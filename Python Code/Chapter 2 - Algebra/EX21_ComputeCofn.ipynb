{
 "cells": [
  {
   "cell_type": "markdown",
   "id": "b1dfa48d-3197-4149-831b-9559f17b528d",
   "metadata": {},
   "source": [
    "**Program to compute the combination of n elements taken k at a time**\n",
    "\n",
    "Cn^k = n! / k!*(n-k)! = (n-k+1)/k * Cn^(k-1)"
   ]
  },
  {
   "cell_type": "code",
   "execution_count": 5,
   "id": "a01722d9-7db8-4ddb-8e4b-f87682719d68",
   "metadata": {},
   "outputs": [
    {
     "name": "stdout",
     "output_type": "stream",
     "text": [
      "Program to compute the combination of n elements taken k at a time /n\n",
      "Enter the Input Data \n"
     ]
    },
    {
     "name": "stdin",
     "output_type": "stream",
     "text": [
      "Enter the n elements:  10\n",
      "Enter choose k:  4\n"
     ]
    },
    {
     "name": "stdout",
     "output_type": "stream",
     "text": [
      "Combination of n elements taken k at a time is C(n, k) = 210.0\n"
     ]
    }
   ],
   "source": [
    "print(\"Program to compute the combination of n elements taken k at a time /n\")\n",
    "print(\"Enter the Input Data \")\n",
    "n = int(input(\"Enter the n elements: \"))\n",
    "k = int(input(\"Enter choose k: \"))\n",
    "C = 1.00\n",
    "for i in range(1, k +1, 1):\n",
    "    C = float((n-i+1)/i)*C\n",
    "print(f\"Combination of n elements taken k at a time is C(n, k) = {C}\")"
   ]
  },
  {
   "cell_type": "code",
   "execution_count": null,
   "id": "8e5eab0e-dfea-4ff4-8d66-ebd2c121fca4",
   "metadata": {},
   "outputs": [],
   "source": []
  }
 ],
 "metadata": {
  "kernelspec": {
   "display_name": "Python 3 (ipykernel)",
   "language": "python",
   "name": "python3"
  },
  "language_info": {
   "codemirror_mode": {
    "name": "ipython",
    "version": 3
   },
   "file_extension": ".py",
   "mimetype": "text/x-python",
   "name": "python",
   "nbconvert_exporter": "python",
   "pygments_lexer": "ipython3",
   "version": "3.9.6"
  }
 },
 "nbformat": 4,
 "nbformat_minor": 5
}
