{
 "cells": [
  {
   "cell_type": "markdown",
   "id": "07cb312d-179e-4242-b260-532104b37654",
   "metadata": {},
   "source": [
    "**Finding all the possitive elements of an array**"
   ]
  },
  {
   "cell_type": "code",
   "execution_count": 4,
   "id": "8b845a4e-8b7f-402e-a58d-ec0d391e0a31",
   "metadata": {},
   "outputs": [
    {
     "name": "stdout",
     "output_type": "stream",
     "text": [
      "Program to find all positive elements of an array \n",
      "\n",
      "Enter the data\n"
     ]
    },
    {
     "name": "stdin",
     "output_type": "stream",
     "text": [
      "Enter number of elements:  3\n"
     ]
    },
    {
     "name": "stdout",
     "output_type": "stream",
     "text": [
      "\n",
      "Enter the data of all elements\n"
     ]
    },
    {
     "name": "stdin",
     "output_type": "stream",
     "text": [
      "array[0] =  2\n",
      "array[1] =  3\n",
      "array[2] =  4\n"
     ]
    },
    {
     "name": "stdout",
     "output_type": "stream",
     "text": [
      "\n",
      "Positive elements of this array is: \n",
      "array[0] = 2.0\n",
      "array[1] = 3.0\n",
      "array[2] = 4.0\n",
      "\n",
      "Number of Positive Elements of this Array is 3\n"
     ]
    }
   ],
   "source": [
    "print(\"Program to find all positive elements of an array \\n\")\n",
    "print(\"Enter the data\")\n",
    "n = int(input(\"Enter number of elements: \"))\n",
    "array = [0]*n\n",
    "count = 0\n",
    "\n",
    "\n",
    "# Enter the data of all elements\n",
    "print(\"\\nEnter the data of all elements\")\n",
    "for i in range(n):\n",
    "    array[i] = float(input(f\"array[{i}] = \"))\n",
    "\n",
    "print(\"\\nPositive elements of this array is: \")\n",
    "for i in range(n):\n",
    "    if array[i] > 0:\n",
    "        print(f\"array[{i}] = {array[i]}\")\n",
    "        count += 1\n",
    "\n",
    "print(f\"\\nNumber of Positive Elements of this Array is {count}\")"
   ]
  },
  {
   "cell_type": "code",
   "execution_count": null,
   "id": "67a1f5fd-17cb-4ad4-b10c-29ea8c35a827",
   "metadata": {},
   "outputs": [],
   "source": []
  }
 ],
 "metadata": {
  "kernelspec": {
   "display_name": "Python 3 (ipykernel)",
   "language": "python",
   "name": "python3"
  },
  "language_info": {
   "codemirror_mode": {
    "name": "ipython",
    "version": 3
   },
   "file_extension": ".py",
   "mimetype": "text/x-python",
   "name": "python",
   "nbconvert_exporter": "python",
   "pygments_lexer": "ipython3",
   "version": "3.9.6"
  }
 },
 "nbformat": 4,
 "nbformat_minor": 5
}
