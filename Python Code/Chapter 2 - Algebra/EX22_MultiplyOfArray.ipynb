{
 "cells": [
  {
   "cell_type": "markdown",
   "id": "fc4ae079-21d4-4eb6-880f-115be7d31b34",
   "metadata": {},
   "source": [
    "**Multiply all Elements of an Array**"
   ]
  },
  {
   "cell_type": "code",
   "execution_count": 7,
   "id": "0615fa1f-3180-4f94-be8e-f264d591847d",
   "metadata": {},
   "outputs": [
    {
     "name": "stdout",
     "output_type": "stream",
     "text": [
      "Program to multiply all elements of an array \n",
      "\n",
      "Enter the data\n"
     ]
    },
    {
     "name": "stdin",
     "output_type": "stream",
     "text": [
      "Enter number of elements:  4\n"
     ]
    },
    {
     "name": "stdout",
     "output_type": "stream",
     "text": [
      "\n",
      "Enter the data of all elements\n"
     ]
    },
    {
     "name": "stdin",
     "output_type": "stream",
     "text": [
      "array[0] =  12.52\n",
      "array[1] =  -45.6\n",
      "array[2] =  25\n",
      "array[3] =  50.45\n"
     ]
    },
    {
     "name": "stdout",
     "output_type": "stream",
     "text": [
      "\n",
      "Multiply all Elements of this Array is -720062.760 \n"
     ]
    }
   ],
   "source": [
    "print(\"Program to multiply all elements of an array \\n\")\n",
    "print(\"Enter the data\")\n",
    "n = int(input(\"Enter number of elements: \"))\n",
    "array = [0]*n\n",
    "multiply = 1.00\n",
    "\n",
    "# Enter the data of all elements\n",
    "print(\"\\nEnter the data of all elements\")\n",
    "for i in range(n):\n",
    "    array[i] = float(input(f\"array[{i}] = \"))\n",
    "    multiply *= array[i]\n",
    "\n",
    "print(f\"\\nMultiply all Elements of this Array is {multiply:3f} \")"
   ]
  },
  {
   "cell_type": "code",
   "execution_count": 2,
   "id": "d7568e86-b886-44d6-b909-6420adf606d1",
   "metadata": {},
   "outputs": [
    {
     "data": {
      "text/plain": [
       "[12.52, -45.6, 25.0, 50.45]"
      ]
     },
     "execution_count": 2,
     "metadata": {},
     "output_type": "execute_result"
    }
   ],
   "source": [
    "array"
   ]
  },
  {
   "cell_type": "code",
   "execution_count": null,
   "id": "ca30f142-d0fc-4836-a631-5899383cffb0",
   "metadata": {},
   "outputs": [],
   "source": []
  }
 ],
 "metadata": {
  "kernelspec": {
   "display_name": "Python 3 (ipykernel)",
   "language": "python",
   "name": "python3"
  },
  "language_info": {
   "codemirror_mode": {
    "name": "ipython",
    "version": 3
   },
   "file_extension": ".py",
   "mimetype": "text/x-python",
   "name": "python",
   "nbconvert_exporter": "python",
   "pygments_lexer": "ipython3",
   "version": "3.9.6"
  }
 },
 "nbformat": 4,
 "nbformat_minor": 5
}
