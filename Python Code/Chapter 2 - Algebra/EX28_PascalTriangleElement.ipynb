{
 "cells": [
  {
   "cell_type": "markdown",
   "id": "1549d5f7-8911-4308-9efa-a150fade889b",
   "metadata": {},
   "source": [
    "**Program to calculate the element of Pascal's Triangle**\n",
    "\n",
    "Pascal's Triangle is definded :\n",
    "\n",
    "C(0,0)\n",
    "\n",
    "C(0,1) C(1,1)\n",
    "\n",
    "C(0,2) C(1,2) C(2,2)\n",
    "\n",
    ".......................\n",
    "\n",
    "C(0,n) C(1,n) C(2,n).......C(n,n)\n",
    "\n",
    "and C(k,n) = C(k,n-1) + C(k-1,n-1)\n",
    "\n",
    "with all k: C(0,k) = C(k,k) = 1"
   ]
  },
  {
   "cell_type": "code",
   "execution_count": 7,
   "id": "bd549c4a-0ca8-4837-a404-22c494c1b06e",
   "metadata": {},
   "outputs": [
    {
     "name": "stdout",
     "output_type": "stream",
     "text": [
      "Program to Print Passcal's Triangle\n"
     ]
    },
    {
     "name": "stdin",
     "output_type": "stream",
     "text": [
      "Enter the number of row for Pascal's Triangle :  10\n"
     ]
    },
    {
     "name": "stdout",
     "output_type": "stream",
     "text": [
      "1  \n",
      "\n",
      "1 1  \n",
      "\n",
      "1 2 1  \n",
      "\n",
      "1 3 3 1  \n",
      "\n",
      "1 4 6 4 1  \n",
      "\n",
      "1 5 10 10 5 1  \n",
      "\n",
      "1 6 15 20 15 6 1  \n",
      "\n",
      "1 7 21 35 35 21 7 1  \n",
      "\n",
      "1 8 28 56 70 56 28 8 1  \n",
      "\n",
      "1 9 36 84 126 126 84 36 9 1  \n",
      "\n"
     ]
    }
   ],
   "source": [
    "print(\"Program to Print Passcal's Triangle\")\n",
    "\n",
    "def get_bionomial(k : int, n : int):\n",
    "    if (k==0) or (k == n): \n",
    "        return 1\n",
    "    else:\n",
    "        return(get_bionomial(k, n-1) + get_bionomial(k-1, n-1))\n",
    "\n",
    "m = int(input(\"Enter the number of row for Pascal's Triangle : \"))\n",
    "\n",
    "for n in range(m):\n",
    "    row = ''\n",
    "    for k in range(n+1):\n",
    "        row += str(get_bionomial(k, n)) + \" \"\n",
    "    print(f\"{row} \\n\")\n"
   ]
  },
  {
   "cell_type": "code",
   "execution_count": null,
   "id": "5e5ff5c8-f708-4f4d-9c8d-3967abc0f63c",
   "metadata": {},
   "outputs": [],
   "source": []
  }
 ],
 "metadata": {
  "kernelspec": {
   "display_name": "Python 3 (ipykernel)",
   "language": "python",
   "name": "python3"
  },
  "language_info": {
   "codemirror_mode": {
    "name": "ipython",
    "version": 3
   },
   "file_extension": ".py",
   "mimetype": "text/x-python",
   "name": "python",
   "nbconvert_exporter": "python",
   "pygments_lexer": "ipython3",
   "version": "3.9.6"
  }
 },
 "nbformat": 4,
 "nbformat_minor": 5
}
