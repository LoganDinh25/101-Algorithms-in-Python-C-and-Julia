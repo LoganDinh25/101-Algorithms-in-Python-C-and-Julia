{
 "cells": [
  {
   "cell_type": "markdown",
   "id": "a04f83a9-064b-4d86-a808-ab19d93a2ba4",
   "metadata": {},
   "source": [
    "**Finding the Max Element and Number of Positive Element in an Array**"
   ]
  },
  {
   "cell_type": "code",
   "execution_count": 3,
   "id": "761496fe-fdba-4a47-ab81-b919d2833710",
   "metadata": {},
   "outputs": [
    {
     "name": "stdout",
     "output_type": "stream",
     "text": [
      "Program for finding the max element in an array\n"
     ]
    },
    {
     "name": "stdin",
     "output_type": "stream",
     "text": [
      "Input the number of element n =  4\n",
      "array[0] =  10\n",
      "array[1] =  -25.75\n",
      "array[2] =  120\n",
      "array[3] =  23.65\n"
     ]
    },
    {
     "name": "stdout",
     "output_type": "stream",
     "text": [
      "MAX = 120.0 and there are 3 positive elements in this array\n"
     ]
    }
   ],
   "source": [
    "print(\"Program for finding the max element in an array\")\n",
    "n = int(input(\"Input the number of element n = \"))\n",
    "array = [0]*n\n",
    "for i in range(n):\n",
    "    array[i] = float(input(f\"array[{i}] = \"))\n",
    "\n",
    "max = array[0]\n",
    "time = 0\n",
    "\n",
    "for i in range(n):\n",
    "    if array[i] > 0 : time += 1\n",
    "    if array[i] > max: max = array[i]\n",
    "\n",
    "print(f\"MAX = {max} and there are {time} positive elements in this array\")\n"
   ]
  },
  {
   "cell_type": "code",
   "execution_count": null,
   "id": "a84c4a86-863d-449f-acab-00724ab4477b",
   "metadata": {},
   "outputs": [],
   "source": []
  }
 ],
 "metadata": {
  "kernelspec": {
   "display_name": "Python 3 (ipykernel)",
   "language": "python",
   "name": "python3"
  },
  "language_info": {
   "codemirror_mode": {
    "name": "ipython",
    "version": 3
   },
   "file_extension": ".py",
   "mimetype": "text/x-python",
   "name": "python",
   "nbconvert_exporter": "python",
   "pygments_lexer": "ipython3",
   "version": "3.9.6"
  }
 },
 "nbformat": 4,
 "nbformat_minor": 5
}
