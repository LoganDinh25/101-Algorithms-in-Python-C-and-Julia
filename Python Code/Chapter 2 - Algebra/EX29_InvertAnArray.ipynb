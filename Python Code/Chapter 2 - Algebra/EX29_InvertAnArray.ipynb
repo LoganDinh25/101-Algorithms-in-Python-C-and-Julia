{
 "cells": [
  {
   "cell_type": "markdown",
   "id": "8a9b7d2a-9166-49af-afe1-97ace7de2e9e",
   "metadata": {},
   "source": [
    "**Reverse the order of the elements in a one-dimensional Array **"
   ]
  },
  {
   "cell_type": "code",
   "execution_count": 3,
   "id": "a98c3b50-28c0-4639-8190-47376b2ef708",
   "metadata": {},
   "outputs": [
    {
     "name": "stdout",
     "output_type": "stream",
     "text": [
      "Program to reverse the order of the elements in a one-dimensional Array \n",
      "\n"
     ]
    },
    {
     "name": "stdin",
     "output_type": "stream",
     "text": [
      "Enter number of element of array n =  3\n",
      "array[0] =  1\n",
      "array[1] =  2\n",
      "array[2] =  3\n"
     ]
    },
    {
     "name": "stdout",
     "output_type": "stream",
     "text": [
      "Array that you enter is 1.0 2.0 3.0 \n",
      "Reverse the order of the elements in a one-dimensional Array  is 3.0 2.0 1.0  \n"
     ]
    }
   ],
   "source": [
    "print(\"Program to reverse the order of the elements in a one-dimensional Array \\n\")\n",
    "\n",
    "n = int(input(\"Enter number of element of array n = \"))\n",
    "array = [0]*n\n",
    "print_array = ''\n",
    "for i in range(n):\n",
    "    array[i] = float(input(f\"array[{i}] = \"))\n",
    "    print_array += str(array[i]) + ' '\n",
    "\n",
    "print(f\"Array that you enter is {print_array}\")\n",
    "\n",
    "i = 0\n",
    "j = n-1\n",
    "\n",
    "while (i < j):\n",
    "    temp = array[i]\n",
    "    array[i] = array[j]\n",
    "    array[j] = temp\n",
    "    i += 1\n",
    "    j -= 1\n",
    "\n",
    "print_invert_array = ''\n",
    "for i in range(n):\n",
    "    print_invert_array += str(array[i]) + ' '\n",
    "print(f\"Reverse the order of the elements in a one-dimensional Array  is {print_invert_array} \")"
   ]
  },
  {
   "cell_type": "code",
   "execution_count": null,
   "id": "1753d9d1-f2a7-4dee-8ade-78f5f26147d3",
   "metadata": {},
   "outputs": [],
   "source": []
  }
 ],
 "metadata": {
  "kernelspec": {
   "display_name": "Python 3 (ipykernel)",
   "language": "python",
   "name": "python3"
  },
  "language_info": {
   "codemirror_mode": {
    "name": "ipython",
    "version": 3
   },
   "file_extension": ".py",
   "mimetype": "text/x-python",
   "name": "python",
   "nbconvert_exporter": "python",
   "pygments_lexer": "ipython3",
   "version": "3.9.6"
  }
 },
 "nbformat": 4,
 "nbformat_minor": 5
}
