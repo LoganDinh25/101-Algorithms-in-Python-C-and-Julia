{
 "cells": [
  {
   "cell_type": "markdown",
   "id": "6aabe824-36b6-48d0-8fd5-d088d46c2cb3",
   "metadata": {},
   "source": [
    "**Topic:** Find and assign real and integer values to variables\n",
    "\n",
    "\n",
    "***Đề bài:*** *Viết chương trình tìm và gán giá trị cho các biến*"
   ]
  },
  {
   "cell_type": "code",
   "execution_count": 15,
   "id": "1f6139f4-3a8a-4006-a64b-85b117fdf066",
   "metadata": {},
   "outputs": [
    {
     "name": "stdout",
     "output_type": "stream",
     "text": [
      "Display the values of assignments: \n",
      "\n",
      "q1 = 1\n",
      "q2 = 0\n",
      "q3 = 1\n",
      "q4 = 25\n",
      "q5 = 50\n",
      "x1 = 2.000000\n",
      "x2 = 2.000\n",
      "x3 = 2.100\n",
      "x4 = 2.000\n"
     ]
    }
   ],
   "source": [
    "#Initialize variables\n",
    "n = 5\n",
    "p = 10\n",
    "\n",
    "print(\"Display the values of assignments: \\n\")\n",
    "q1 = n < p\n",
    "q2 = n == p\n",
    "q3 = p%n + p>n\n",
    "q4 = n*(p>n and n or p)\n",
    "q5 = n*(p<n and n or p)\n",
    "x1 = p/n\n",
    "x2 = float(p/n)\n",
    "x3 = (p+0.5)/n\n",
    "x4 = int(p+0.5)/n\n",
    "\n",
    "#Display the variables\n",
    "print(f\"q1 = {q1:d}\")\n",
    "print(f\"q2 = {q2:d}\")\n",
    "print(f\"q3 = {q3:d}\")\n",
    "print(f\"q4 = {q4:d}\")\n",
    "print(f\"q5 = {q5:d}\")\n",
    "\n",
    "print(f\"x1 = {x1:f}\")\n",
    "print(f\"x2 = {x2:.3f}\")\n",
    "print(f\"x3 = {x3:.3f}\")\n",
    "print(f\"x4 = {x4:.3f}\")"
   ]
  },
  {
   "cell_type": "code",
   "execution_count": null,
   "id": "0d9a31c8-f598-4433-bfa5-594685100c1e",
   "metadata": {},
   "outputs": [],
   "source": []
  }
 ],
 "metadata": {
  "kernelspec": {
   "display_name": "Python 3 (ipykernel)",
   "language": "python",
   "name": "python3"
  },
  "language_info": {
   "codemirror_mode": {
    "name": "ipython",
    "version": 3
   },
   "file_extension": ".py",
   "mimetype": "text/x-python",
   "name": "python",
   "nbconvert_exporter": "python",
   "pygments_lexer": "ipython3",
   "version": "3.9.6"
  }
 },
 "nbformat": 4,
 "nbformat_minor": 5
}
