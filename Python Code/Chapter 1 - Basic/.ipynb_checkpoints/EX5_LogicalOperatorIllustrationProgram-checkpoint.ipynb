{
 "cells": [
  {
   "cell_type": "markdown",
   "id": "933e5cf6-c5b2-4173-ae84-dd9a68c63627",
   "metadata": {},
   "source": [
    "**Topic** Logical Operator Illustration Program\n",
    "\n",
    "***Đề bài:*** *Viết chương trình minh hoạ toán tử logic*"
   ]
  },
  {
   "cell_type": "code",
   "execution_count": 7,
   "id": "e5aad260-f23e-4414-9e33-ff5330f373a5",
   "metadata": {},
   "outputs": [
    {
     "name": "stdout",
     "output_type": "stream",
     "text": [
      "Program to illustrate logical operators\n",
      "\n",
      "A : n = 6 p = 2 q = 1 \n",
      "B : n = 6 p = 3 q = 1 \n",
      "C : n = 6 p = 2 q = 0 \n",
      "D : n = 6 p = 3 q = 1 \n"
     ]
    }
   ],
   "source": [
    "print(\"Program to illustrate logical operators\\n\")\n",
    "n = 5\n",
    "p = 2\n",
    "\n",
    "# q = (n++ > p)||(p++ != 3)\n",
    "q = (n > p) or (p != 3)\n",
    "n += 1 \n",
    "p += 1 if n <= p else 0\n",
    "print(f\"A : n = {n:d} p = {p:d} q = {q:d} \")\n",
    "\n",
    "#q = (n++ < p)||(p++ != 3)\n",
    "n = 5; p = 2\n",
    "q = (n > p) or (p != 3)\n",
    "n += 1 \n",
    "p += 1 if n >= p else 0\n",
    "print(f\"B : n = {n:d} p = {p:d} q = {q:d} \")\n",
    "\n",
    "#q = (++n == 3 ) && (++p == 3)\n",
    "n = 5; p = 2\n",
    "n += 1 \n",
    "p += 1 if n == 3 else 0\n",
    "q = (n == 3) and ( p ==3)\n",
    "print(f\"C : n = {n:d} p = {p:d} q = {q:d} \")\n",
    "\n",
    "#q = (++n == 6) && (++p = 3)\n",
    "n = 5; p = 2\n",
    "n += 1 \n",
    "p += 1 if n == 6 else 0\n",
    "q = (n == 6) and ( p ==3)\n",
    "print(f\"D : n = {n:d} p = {p:d} q = {q:d} \")\n"
   ]
  },
  {
   "cell_type": "markdown",
   "id": "c7a46d3a-7970-4a9b-9440-115fe9ec0bbe",
   "metadata": {},
   "source": [
    "**Note: The two operators && and || evaluate the second operator only when needed.**"
   ]
  }
 ],
 "metadata": {
  "kernelspec": {
   "display_name": "Python 3 (ipykernel)",
   "language": "python",
   "name": "python3"
  },
  "language_info": {
   "codemirror_mode": {
    "name": "ipython",
    "version": 3
   },
   "file_extension": ".py",
   "mimetype": "text/x-python",
   "name": "python",
   "nbconvert_exporter": "python",
   "pygments_lexer": "ipython3",
   "version": "3.9.6"
  }
 },
 "nbformat": 4,
 "nbformat_minor": 5
}
