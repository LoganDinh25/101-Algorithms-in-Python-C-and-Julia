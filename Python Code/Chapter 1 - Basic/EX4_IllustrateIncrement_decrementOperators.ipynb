{
 "cells": [
  {
   "cell_type": "markdown",
   "id": "1eb66d36-d542-4938-8fd9-87053f72af20",
   "metadata": {},
   "source": [
    "**Topic:** Program to illustrate increment and decrement operators.\n",
    "\n",
    "***Đề bài:*** *Viết chương trình minh hoạ toán tử tăng giảm*"
   ]
  },
  {
   "cell_type": "code",
   "execution_count": 10,
   "id": "0e14a1c0-1b98-429b-b1eb-6c612ead98af",
   "metadata": {},
   "outputs": [
    {
     "name": "stdout",
     "output_type": "stream",
     "text": [
      "Program to illustrate increment and decrement operators: \n",
      "\n",
      " A :n = 10 p = 10 q = 10 r = 1\n",
      " A :n = 15 p = 10 q = 5\n",
      " C :n = 15 p = 11 q = 5\n",
      " D :n = 16 p = 11 q = 15\n"
     ]
    }
   ],
   "source": [
    "#Initialize variables\n",
    "\n",
    "n = 10\n",
    "p = 5\n",
    "q = 10\n",
    "\n",
    "print(\"Program to illustrate increment and decrement operators: \\n\")\n",
    "\n",
    "r = n == (p := q)\n",
    "print(f\" A :n = {n:d} p = {p:d} q = {q:d} r = {r:d}\")\n",
    "\n",
    "n = p = q = 5\n",
    "# n += p += q\n",
    "p += q\n",
    "n += p\n",
    "print(f\" A :n = {n:d} p = {p:d} q = {q:d}\")\n",
    "\n",
    "# q = n < p ? n++ : p++ using and A or B\n",
    "q = n if n < p else q\n",
    "if n < p:\n",
    "    n +=1\n",
    "else:\n",
    "    p +=1\n",
    "print(f\" C :n = {n:d} p = {p:d} q = {q:d}\")\n",
    "\n",
    "# q = n>p?n++:p++\n",
    "q = n if n>p else p\n",
    "if n>p:\n",
    "    n += 1\n",
    "else:\n",
    "    p +=1\n",
    "print(f\" D :n = {n:d} p = {p:d} q = {q:d}\")"
   ]
  },
  {
   "cell_type": "code",
   "execution_count": null,
   "id": "ae3a7bc3-37a2-4bbd-9725-befb86c62150",
   "metadata": {},
   "outputs": [],
   "source": []
  }
 ],
 "metadata": {
  "kernelspec": {
   "display_name": "Python 3 (ipykernel)",
   "language": "python",
   "name": "python3"
  },
  "language_info": {
   "codemirror_mode": {
    "name": "ipython",
    "version": 3
   },
   "file_extension": ".py",
   "mimetype": "text/x-python",
   "name": "python",
   "nbconvert_exporter": "python",
   "pygments_lexer": "ipython3",
   "version": "3.9.6"
  }
 },
 "nbformat": 4,
 "nbformat_minor": 5
}
