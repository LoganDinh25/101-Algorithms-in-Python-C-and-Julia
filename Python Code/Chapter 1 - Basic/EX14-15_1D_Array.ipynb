{
 "cells": [
  {
   "cell_type": "markdown",
   "id": "541ce786-4151-43b1-b643-f4e8632e92c8",
   "metadata": {},
   "source": [
    "**Topic:** 1D Array\n",
    "\n",
    "Input an 1D array and print out summary of this array\n",
    "\n",
    "***Đề bài:*** Viet ham nhap moi mang mot chieu va in ra tong cua cac phan tu trong mang"
   ]
  },
  {
   "cell_type": "code",
   "execution_count": 3,
   "id": "86188ca9-8116-42d4-89a1-05311a157706",
   "metadata": {},
   "outputs": [
    {
     "name": "stdin",
     "output_type": "stream",
     "text": [
      "array[0] 3\n",
      "array[1] 2\n",
      "array[2] 5\n",
      "array[3] 3\n",
      "array[4] 3\n"
     ]
    },
    {
     "name": "stdout",
     "output_type": "stream",
     "text": [
      "\n",
      " Print all element of this array: \n",
      "\n",
      "array[0] = 3\n",
      "array[1] = 2\n",
      "array[2] = 5\n",
      "array[3] = 3\n",
      "array[4] = 3\n",
      "Array summary is 16\n"
     ]
    }
   ],
   "source": [
    "array = [0]*5\n",
    "sum = 0\n",
    "for i in range(len(array)):\n",
    "    array[i] = int(input(f\"array[{i}]\"))\n",
    "print(\"\\n Print all element of this array: \\n\")\n",
    "for i in range(len(array)):\n",
    "    sum += array[i]\n",
    "    print(f\"array[{i}] = {array[i]}\")\n",
    "print(f\"Array summary is {sum}\")"
   ]
  },
  {
   "cell_type": "code",
   "execution_count": null,
   "id": "a2ac891a-f9d7-4a8c-b714-dbf61411f0f6",
   "metadata": {},
   "outputs": [],
   "source": []
  }
 ],
 "metadata": {
  "kernelspec": {
   "display_name": "Python 3 (ipykernel)",
   "language": "python",
   "name": "python3"
  },
  "language_info": {
   "codemirror_mode": {
    "name": "ipython",
    "version": 3
   },
   "file_extension": ".py",
   "mimetype": "text/x-python",
   "name": "python",
   "nbconvert_exporter": "python",
   "pygments_lexer": "ipython3",
   "version": "3.9.6"
  }
 },
 "nbformat": 4,
 "nbformat_minor": 5
}
