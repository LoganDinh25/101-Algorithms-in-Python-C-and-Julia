{
 "cells": [
  {
   "cell_type": "markdown",
   "id": "ae7f0441-7f23-4110-a8ab-f3a1ae162bc8",
   "metadata": {},
   "source": [
    "**Topic:** Building an arithmetic function \n",
    "\n",
    "Building a functions with 3 auguments: 2 first auguments are numberal and last augument is character present an arithmectic operation +, -, *, /\n",
    "\n",
    "***Đề bài:*** Viet 3 ham de in ra mot xau ky tu voi doi so va gia tri tra ve khac nhau"
   ]
  },
  {
   "cell_type": "code",
   "execution_count": 1,
   "id": "450cdf81-7b1c-40a6-b5aa-df58ac3f555e",
   "metadata": {},
   "outputs": [
    {
     "name": "stdout",
     "output_type": "stream",
     "text": [
      "Input the data: \n",
      "\n"
     ]
    },
    {
     "name": "stdin",
     "output_type": "stream",
     "text": [
      "Input first number:  3\n",
      "Input second number:  4\n"
     ]
    },
    {
     "name": "stdout",
     "output_type": "stream",
     "text": [
      "Result of the operation (+ - * /): \n",
      "Addition is 7.0\n",
      "Minus is -1.0\n",
      "Multiple is 12.0\n",
      "Divide is 0.75\n"
     ]
    }
   ],
   "source": [
    "def get_arithmetic( first_augument, second_augument, operation):\n",
    "    result = 0.00\n",
    "    if operation == '-':\n",
    "        result = first_augument - second_augument\n",
    "    elif operation == '*':\n",
    "        result = first_augument * second_augument\n",
    "    elif operation == '/':\n",
    "        result = float (first_augument / second_augument)\n",
    "    else:\n",
    "        result = first_augument + second_augument\n",
    "    return result\n",
    "\n",
    "print(\"Input the data: \\n\")\n",
    "first_augument = float(input(\"Input first number: \"))\n",
    "second_augument = float(input(\"Input second number: \"))\n",
    "print(\"Result of the operation (+ - * /): \")\n",
    "print(f\"Addition is {get_arithmetic(first_augument, second_augument, '+')}\")\n",
    "print(f\"Minus is {get_arithmetic(first_augument, second_augument, '-')}\")\n",
    "print(f\"Multiple is {get_arithmetic(first_augument, second_augument, '*')}\")\n",
    "print(f\"Divide is {get_arithmetic(first_augument, second_augument, '/')}\")"
   ]
  },
  {
   "cell_type": "code",
   "execution_count": null,
   "id": "e4656f56-8d35-4289-a33d-810739e26e0b",
   "metadata": {},
   "outputs": [],
   "source": []
  }
 ],
 "metadata": {
  "kernelspec": {
   "display_name": "Python 3 (ipykernel)",
   "language": "python",
   "name": "python3"
  },
  "language_info": {
   "codemirror_mode": {
    "name": "ipython",
    "version": 3
   },
   "file_extension": ".py",
   "mimetype": "text/x-python",
   "name": "python",
   "nbconvert_exporter": "python",
   "pygments_lexer": "ipython3",
   "version": "3.9.6"
  }
 },
 "nbformat": 4,
 "nbformat_minor": 5
}
