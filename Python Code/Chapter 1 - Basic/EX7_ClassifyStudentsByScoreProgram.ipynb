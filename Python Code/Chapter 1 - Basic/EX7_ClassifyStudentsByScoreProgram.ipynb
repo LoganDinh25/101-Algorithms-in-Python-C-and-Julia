{
 "cells": [
  {
   "cell_type": "markdown",
   "id": "b8b6c52e-3689-405a-b992-6b2ad8809bd6",
   "metadata": {},
   "source": [
    "**Topic** Classifying Student by Score Program\n",
    "\n",
    "Solution: There are many solutions to handle this problem. We use if-else statements to check the student's score and control the program flow. \n",
    "\n",
    "Scores from 0 to 3 are classified Very poor\n",
    "\n",
    "A score 4 is classifed Poor\n",
    "\n",
    "Scores from 5 to 6 are classifed Average\n",
    "\n",
    "Scores from 7 to 8 are classifed Good\n",
    "\n",
    "Scores from 9 to 10 are classifed Excellent\n",
    "\n",
    "If the score is out of range from 0 to 10, an error message is display and a jump/continue statements is used to proceed with the next process.\n",
    "\n",
    "***Đề bài:*** *Viết chương trình minh phân loại điểm sinh viên*"
   ]
  },
  {
   "cell_type": "code",
   "execution_count": 8,
   "id": "0637efd2-e286-4468-bb50-17b000608a43",
   "metadata": {},
   "outputs": [
    {
     "name": "stdout",
     "output_type": "stream",
     "text": [
      "Student Classification Program Based on Score \n",
      "\n",
      "Input the data: \n",
      "\n",
      " Score =  \n"
     ]
    },
    {
     "name": "stdin",
     "output_type": "stream",
     "text": [
      " 2\n"
     ]
    },
    {
     "name": "stdout",
     "output_type": "stream",
     "text": [
      "Very poor \n",
      "\n"
     ]
    },
    {
     "name": "stdin",
     "output_type": "stream",
     "text": [
      "Input 1 to continue, 0 to stop:  0\n"
     ]
    },
    {
     "name": "stdout",
     "output_type": "stream",
     "text": [
      "Program Ending.\n"
     ]
    }
   ],
   "source": [
    "print(\"Student Classification Program Based on Score \\n\")\n",
    "def get_student_classification():\n",
    "    print(\"Input the data: \")\n",
    "    print(\"\\n Score =  \")\n",
    "    score = int(input())\n",
    "    \n",
    "    if (score >= 0) and (score<=3):\n",
    "        print(\"Very poor \\n\")\n",
    "    elif score == 4:\n",
    "        print(\"Poor \\n\")\n",
    "    elif (score >= 5) and (score <= 6):\n",
    "        print(\"Average \\n\")\n",
    "    elif (score >=7) and (score <=8):\n",
    "        print(\"Good \\n\")\n",
    "    elif (score >=9) and (score <=10):\n",
    "        print(\"Excellent \\n\")\n",
    "    else: print(\"Error input \\n\")\n",
    "\n",
    "get_student_classification()\n",
    "while True:\n",
    "    n = input(\"Input 1 to continue, 0 to stop: \")\n",
    "    if n == \"0\":\n",
    "        print(\"Program Ending.\")\n",
    "        break\n",
    "    elif n == \"1\":\n",
    "        get_student_classification()\n",
    "    else:\n",
    "        print(\"Please, input only 1 or 0.\")"
   ]
  },
  {
   "cell_type": "code",
   "execution_count": null,
   "id": "80c43686-4578-4fe6-8dbd-9c6b6626440c",
   "metadata": {},
   "outputs": [],
   "source": []
  }
 ],
 "metadata": {
  "kernelspec": {
   "display_name": "Python 3 (ipykernel)",
   "language": "python",
   "name": "python3"
  },
  "language_info": {
   "codemirror_mode": {
    "name": "ipython",
    "version": 3
   },
   "file_extension": ".py",
   "mimetype": "text/x-python",
   "name": "python",
   "nbconvert_exporter": "python",
   "pygments_lexer": "ipython3",
   "version": "3.9.6"
  }
 },
 "nbformat": 4,
 "nbformat_minor": 5
}
