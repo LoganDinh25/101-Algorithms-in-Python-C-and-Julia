{
 "cells": [
  {
   "cell_type": "markdown",
   "id": "b8b6c52e-3689-405a-b992-6b2ad8809bd6",
   "metadata": {},
   "source": [
    "**Topic** Classifying Student by Score Program Using switch\n",
    "\n",
    "Solution: There are many solutions to handle this problem. We use switch statements to check the student's score and control the program flow. \n",
    "\n",
    "Scores from 0 to 3 are classified Very poor\n",
    "\n",
    "A score 4 is classifed Poor\n",
    "\n",
    "Scores from 5 to 6 are classifed Average\n",
    "\n",
    "Scores from 7 to 8 are classifed Good\n",
    "\n",
    "Scores from 9 to 10 are classifed Excellent\n",
    "\n",
    "If the score is out of range from 0 to 10, an error message is display and a jump/continue statements is used to proceed with the next process.\n",
    "\n",
    "Note: Can using match-case but requires Python 3.10+ → may not work in older environments.\n",
    "***Đề bài:*** *Viết chương trình minh phân loại điểm sinh viên sử dụng lệnh Match-Case*"
   ]
  },
  {
   "cell_type": "code",
   "execution_count": 3,
   "id": "0637efd2-e286-4468-bb50-17b000608a43",
   "metadata": {},
   "outputs": [
    {
     "name": "stdout",
     "output_type": "stream",
     "text": [
      "Student Classification Program Based on Score \n",
      "\n",
      "Input the data: \n",
      "\n",
      " Score =  \n"
     ]
    },
    {
     "name": "stdin",
     "output_type": "stream",
     "text": [
      " 2\n"
     ]
    },
    {
     "name": "stdout",
     "output_type": "stream",
     "text": [
      "Very poor\n"
     ]
    },
    {
     "name": "stdin",
     "output_type": "stream",
     "text": [
      "Input 1 to continue, 0 to stop:  3\n"
     ]
    },
    {
     "name": "stdout",
     "output_type": "stream",
     "text": [
      "Please, input only 1 or 0.\n"
     ]
    },
    {
     "name": "stdin",
     "output_type": "stream",
     "text": [
      "Input 1 to continue, 0 to stop:  1\n"
     ]
    },
    {
     "name": "stdout",
     "output_type": "stream",
     "text": [
      "Input the data: \n",
      "\n",
      " Score =  \n"
     ]
    },
    {
     "name": "stdin",
     "output_type": "stream",
     "text": [
      " 3\n"
     ]
    },
    {
     "name": "stdout",
     "output_type": "stream",
     "text": [
      "Very poor\n"
     ]
    },
    {
     "name": "stdin",
     "output_type": "stream",
     "text": [
      "Input 1 to continue, 0 to stop:  0\n"
     ]
    },
    {
     "name": "stdout",
     "output_type": "stream",
     "text": [
      "Program Ending.\n"
     ]
    }
   ],
   "source": [
    "print(\"Student Classification Program Based on Score \\n\")\n",
    "\n",
    "switch = {\n",
    "    0: \"Very poor\",\n",
    "    1: \"Very poor\",\n",
    "    2: \"Very poor\",\n",
    "    3: \"Very poor\",\n",
    "    4: \"Poor\",\n",
    "    5: \"Average\",\n",
    "    6: \"Average\",\n",
    "    7: \"Good\",\n",
    "    8: \"Good\",\n",
    "    9: \"Exellent\",\n",
    "    10: \"Exellent\"    \n",
    "}\n",
    "\n",
    "def get_student_classification():\n",
    "    print(\"Input the data: \")\n",
    "    print(\"\\n Score =  \")\n",
    "    score = int(input())\n",
    "    print(switch.get(score, \"Error input \\n\"))\n",
    "\n",
    "get_student_classification()\n",
    "while True:\n",
    "    n = input(\"Input 1 to continue, 0 to stop: \")\n",
    "    if n == \"0\":\n",
    "        print(\"Program Ending.\")\n",
    "        break\n",
    "    elif n == \"1\":\n",
    "        get_student_classification()\n",
    "    else:\n",
    "        print(\"Please, input only 1 or 0.\")"
   ]
  },
  {
   "cell_type": "code",
   "execution_count": null,
   "id": "80c43686-4578-4fe6-8dbd-9c6b6626440c",
   "metadata": {},
   "outputs": [],
   "source": [
    "#Using match - case with python 3.10+\n",
    "print(\"Student Classification Program Based on Score \\n\")\n",
    "\n",
    "def get_student_classification():\n",
    "    print(\"Input the data: \")\n",
    "    print(\"\\n Score =  \")\n",
    "    score = int(input())\n",
    "\n",
    "    match score:\n",
    "        case n if 0 <= n <= 3:\n",
    "            print(\"Very poor \\n\")\n",
    "        case 4:\n",
    "            print(\"Poor \\n\")\n",
    "        case n if 5 <= n <= 6:\n",
    "            print(\"Average \\n\")\n",
    "        case n if 7 <= n <= 8:\n",
    "            print(\"Good \\n\")\n",
    "        case n if 9 <= n <= 10:\n",
    "            print(\"Excellent \\n\")\n",
    "        case _:\n",
    "            print(\"Error input \\n\")\n",
    "\n",
    "get_student_classification()\n",
    "while True:\n",
    "    n = input(\"Input 1 to continue, 0 to stop: \")\n",
    "    if n == \"0\":\n",
    "        print(\"Program Ending.\")\n",
    "        break\n",
    "    elif n == \"1\":\n",
    "        get_student_classification()\n",
    "    else:\n",
    "        print(\"Please, input only 1 or 0.\")"
   ]
  }
 ],
 "metadata": {
  "kernelspec": {
   "display_name": "Python 3 (ipykernel)",
   "language": "python",
   "name": "python3"
  },
  "language_info": {
   "codemirror_mode": {
    "name": "ipython",
    "version": 3
   },
   "file_extension": ".py",
   "mimetype": "text/x-python",
   "name": "python",
   "nbconvert_exporter": "python",
   "pygments_lexer": "ipython3",
   "version": "3.9.6"
  }
 },
 "nbformat": 4,
 "nbformat_minor": 5
}
