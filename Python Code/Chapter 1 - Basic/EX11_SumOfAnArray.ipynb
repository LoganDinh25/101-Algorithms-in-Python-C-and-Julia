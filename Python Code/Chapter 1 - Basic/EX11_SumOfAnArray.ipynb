{
 "cells": [
  {
   "cell_type": "markdown",
   "id": "d3bf2e80-3327-4208-9af9-2bf2aa603c91",
   "metadata": {},
   "source": [
    "**Topic:** Sum of an array\n",
    "\n",
    "***Đề bài:*** T *"
   ]
  },
  {
   "cell_type": "code",
   "execution_count": null,
   "id": "e2ef0044-0cd6-4140-b8c7-66dfd9cc727d",
   "metadata": {},
   "outputs": [],
   "source": []
  }
 ],
 "metadata": {
  "kernelspec": {
   "display_name": "Python 3 (ipykernel)",
   "language": "python",
   "name": "python3"
  },
  "language_info": {
   "codemirror_mode": {
    "name": "ipython",
    "version": 3
   },
   "file_extension": ".py",
   "mimetype": "text/x-python",
   "name": "python",
   "nbconvert_exporter": "python",
   "pygments_lexer": "ipython3",
   "version": "3.9.6"
  }
 },
 "nbformat": 4,
 "nbformat_minor": 5
}
