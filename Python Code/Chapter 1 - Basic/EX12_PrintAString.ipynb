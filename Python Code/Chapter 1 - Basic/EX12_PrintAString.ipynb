{
 "cells": [
  {
   "cell_type": "markdown",
   "id": "d4c3b1d2-dd9d-47fb-9947-7ccc660d92ca",
   "metadata": {},
   "source": [
    "**Topic:** Print a string\n",
    "\n",
    "Building 3 functions:\n",
    "\n",
    "1. function_1() without augument to print out a string and also no output\n",
    "2. function_2(int) with interger augument, no output and is called 2 times\n",
    "3. function_3(int) with interger augument, output value is 0 and is called 3 times\n",
    "\n",
    "***Đề bài:*** Viet 3 ham de in ra mot xau ky tu voi doi so va gia tri tra ve khac nhau"
   ]
  },
  {
   "cell_type": "code",
   "execution_count": 3,
   "id": "9da09046-b66d-4d40-bad1-a79a0d1ffaaa",
   "metadata": {},
   "outputs": [
    {
     "name": "stdout",
     "output_type": "stream",
     "text": [
      " The program of definding and calling a function \n",
      "\n",
      " TURBOC C \n",
      "\n",
      " The Author of C language \n",
      "\n",
      " The Author of C language \n",
      "\n",
      " Dennis Ritchie \n",
      "\n",
      " Dennis Ritchie \n",
      "\n",
      " Dennis Ritchie \n",
      "\n"
     ]
    },
    {
     "data": {
      "text/plain": [
       "0"
      ]
     },
     "execution_count": 3,
     "metadata": {},
     "output_type": "execute_result"
    }
   ],
   "source": [
    "def function_1():\n",
    "    print(\" TURBOC C \\n\")\n",
    "\n",
    "def function_2(n):\n",
    "    for i in range(n):\n",
    "        print(\" The Author of C language \\n\")\n",
    "\n",
    "def function_3(n):\n",
    "    for i in range(n):\n",
    "        print(\" Dennis Ritchie \\n\")\n",
    "    return 0\n",
    "\n",
    "print(\" The program of definding and calling a function \\n\")\n",
    "function_1()\n",
    "function_2(2)\n",
    "function_3(3)"
   ]
  },
  {
   "cell_type": "code",
   "execution_count": null,
   "id": "22a1979b-6547-4bb7-81db-1de89084a26c",
   "metadata": {},
   "outputs": [],
   "source": []
  }
 ],
 "metadata": {
  "kernelspec": {
   "display_name": "Python 3 (ipykernel)",
   "language": "python",
   "name": "python3"
  },
  "language_info": {
   "codemirror_mode": {
    "name": "ipython",
    "version": 3
   },
   "file_extension": ".py",
   "mimetype": "text/x-python",
   "name": "python",
   "nbconvert_exporter": "python",
   "pygments_lexer": "ipython3",
   "version": "3.9.6"
  }
 },
 "nbformat": 4,
 "nbformat_minor": 5
}
